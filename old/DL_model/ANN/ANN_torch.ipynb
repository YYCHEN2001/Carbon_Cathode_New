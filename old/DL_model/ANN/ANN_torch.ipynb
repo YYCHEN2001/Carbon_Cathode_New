{
 "cells": [
  {
   "metadata": {
    "ExecuteTime": {
     "end_time": "2024-11-21T12:46:22.360756Z",
     "start_time": "2024-11-21T12:46:22.357877Z"
    }
   },
   "cell_type": "code",
   "source": [
    "import torch\n",
    "import torch.nn as nn\n",
    "import torch.optim as optim\n",
    "from torch.utils.data import DataLoader, TensorDataset\n",
    "from sklearn.preprocessing import StandardScaler\n",
    "import pandas as pd\n",
    "import numpy as np\n",
    "\n",
    "# 检查是否有可用的 GPU\n",
    "device = torch.device(\"cuda\" if torch.cuda.is_available() else \"cpu\")\n",
    "print(f\"Using device: {device}\")"
   ],
   "id": "bc27cd838cd0bf18",
   "outputs": [
    {
     "name": "stdout",
     "output_type": "stream",
     "text": [
      "Using device: cuda\n"
     ]
    }
   ],
   "execution_count": 12
  },
  {
   "metadata": {
    "ExecuteTime": {
     "end_time": "2024-11-21T12:46:25.304832Z",
     "start_time": "2024-11-21T12:46:25.296199Z"
    }
   },
   "cell_type": "code",
   "source": [
    "from sklearn.model_selection import train_test_split\n",
    "\n",
    "# 读取数据\n",
    "data = pd.read_csv(\"../../data/dataset.csv\")\n",
    "data['target_class'] = pd.qcut(data['Cs'], q=10, labels=False)\n",
    "X = data.drop(['Cs', 'target_class'], axis=1)\n",
    "y = data['Cs']\n",
    "stratify_column = data['target_class']\n",
    "X_train, X_test, y_train, y_test = train_test_split(X, y, test_size=0.2, random_state=21, stratify=stratify_column)\n",
    "\n",
    "# 数据标准化\n",
    "scaler = StandardScaler()\n",
    "scaler.fit(X_train)\n",
    "X_train_scaled = scaler.transform(X_train)\n",
    "X_test_scaled = scaler.transform(X_test)\n",
    "\n",
    "# 将数据转换为 PyTorch 张量并移动到 GPU\n",
    "X_train_tensor = torch.tensor(X_train_scaled, dtype=torch.float32).to(device)\n",
    "y_train_tensor = torch.tensor(y_train, dtype=torch.float32).view(-1, 1).to(device)\n",
    "\n",
    "X_test_tensor = torch.tensor(X_test_scaled, dtype=torch.float32).to(device)\n",
    "y_test_tensor = torch.tensor(y_test, dtype=torch.float32).view(-1, 1).to(device)\n",
    "\n",
    "# 创建 DataLoader\n",
    "train_dataset = TensorDataset(X_train_tensor, y_train_tensor)\n",
    "test_dataset = TensorDataset(X_test_tensor, y_test_tensor)\n",
    "\n",
    "train_loader = DataLoader(train_dataset, batch_size=32, shuffle=True)\n",
    "test_loader = DataLoader(test_dataset, batch_size=32, shuffle=False)"
   ],
   "id": "fe4554e4bc53015",
   "outputs": [],
   "execution_count": 14
  },
  {
   "metadata": {
    "ExecuteTime": {
     "end_time": "2024-11-21T12:46:42.187519Z",
     "start_time": "2024-11-21T12:46:42.182150Z"
    }
   },
   "cell_type": "code",
   "source": [
    "from torch_function import MAPE_Loss\n",
    "# 定义 ANN 模型（确保在使用前定义）\n",
    "class ANN(nn.Module):\n",
    "    def __init__(self, input_dim):\n",
    "        super(ANN, self).__init__()\n",
    "        self.layer1 = nn.Linear(input_dim, 12)\n",
    "        self.layer2 = nn.Linear(12, 90)\n",
    "        self.layer3 = nn.Linear(90, 90)\n",
    "        self.layer4 = nn.Linear(90, 60)\n",
    "        self.layer5 = nn.Linear(60, 70)\n",
    "        self.layer6 = nn.Linear(70, 30)\n",
    "        self.output = nn.Linear(30, 1)\n",
    "\n",
    "    def forward(self, x):\n",
    "        x = torch.relu(self.layer1(x))\n",
    "        x = torch.relu(self.layer2(x))\n",
    "        x = torch.relu(self.layer3(x))\n",
    "        x = torch.relu(self.layer4(x))\n",
    "        x = torch.relu(self.layer5(x))\n",
    "        x = torch.relu(self.layer6(x))\n",
    "        x = self.output(x)\n",
    "        return x\n",
    "\n",
    "# 初始化模型并将其移到 GPU（如果可用）\n",
    "input_dim = X_train.shape[1]\n",
    "model = ANN(input_dim).to(device)\n",
    "\n",
    "# 定义损失函数和优化器\n",
    "loss_function = MAPE_Loss().to(device)  # 自定义损失函数也要移到 GPU\n",
    "optimizer = optim.Adam(model.parameters(), lr=0.001)"
   ],
   "id": "eee97effb366ffda",
   "outputs": [],
   "execution_count": 17
  },
  {
   "metadata": {
    "ExecuteTime": {
     "end_time": "2024-11-21T12:44:08.819161Z",
     "start_time": "2024-11-21T12:43:55.282755Z"
    }
   },
   "cell_type": "code",
   "source": [
    "# 训练模型+包含早停\n",
    "num_epochs = 3000\n",
    "patience = 100  # 允许的最大连续未改进 epoch 数\n",
    "best_loss = float('inf')  # 初始时验证损失设置为正无穷\n",
    "epochs_without_improvement = 0  # 连续未改进的 epoch 数\n",
    "\n",
    "for epoch in range(num_epochs):\n",
    "    model.train()\n",
    "    running_loss = 0.0\n",
    "    for X_batch, y_batch in train_loader:\n",
    "        # 移动 batch 数据到 GPU\n",
    "        X_batch = X_batch.to(device)\n",
    "        y_batch = y_batch.to(device)\n",
    "\n",
    "        optimizer.zero_grad()\n",
    "        outputs = model(X_batch)\n",
    "        loss = loss_function(outputs, y_batch)\n",
    "        loss.backward()\n",
    "        optimizer.step()\n",
    "        running_loss += loss.item()\n",
    "\n",
    "    # 打印每10个 epoch 的损失\n",
    "    if (epoch + 1) % 10 == 0:\n",
    "        print(f\"Epoch [{epoch + 1}/{num_epochs}], Loss: {running_loss / len(train_loader):.4f}\")\n",
    "\n",
    "    # 计算验证损失\n",
    "    model.eval()\n",
    "    with torch.no_grad():\n",
    "        # 在 GPU 上进行预测\n",
    "        y_val_pred = model(X_test_tensor).to(device)\n",
    "        # 验证损失计算时，确保 y_test_tensor 也在同一个设备上\n",
    "        y_test_tensor = y_test_tensor.to(device)\n",
    "        val_loss = loss_function(y_val_pred, y_test_tensor).item()  # 计算验证损失\n",
    "\n",
    "    # 判断验证损失是否改善\n",
    "    if val_loss < best_loss:\n",
    "        best_loss = val_loss\n",
    "        epochs_without_improvement = 0  # 重置计数器\n",
    "        # 保存最佳模型\n",
    "        torch.save(model.state_dict(), \"ann_best_model.pth\")\n",
    "    else:\n",
    "        epochs_without_improvement += 1\n",
    "\n",
    "    # 如果验证损失在一定次数的 epoch 内没有改进，则停止训练\n",
    "    if epochs_without_improvement >= patience:\n",
    "        print(f\"Early stopping at epoch {epoch + 1}\")\n",
    "        break\n",
    "\n",
    "# 保存模型\n",
    "torch.save(model.state_dict(), \"ann_best_model.pth\")"
   ],
   "id": "4d64b3e9b98a3ea7",
   "outputs": [
    {
     "name": "stdout",
     "output_type": "stream",
     "text": [
      "Epoch [10/3000], Loss: 20.6088\n",
      "Epoch [20/3000], Loss: 14.3592\n",
      "Epoch [30/3000], Loss: 15.2728\n",
      "Epoch [40/3000], Loss: 14.1516\n",
      "Epoch [50/3000], Loss: 10.6182\n",
      "Epoch [60/3000], Loss: 9.2494\n",
      "Epoch [70/3000], Loss: 8.8155\n",
      "Epoch [80/3000], Loss: 8.9821\n",
      "Epoch [90/3000], Loss: 9.1149\n",
      "Epoch [100/3000], Loss: 7.4997\n",
      "Epoch [110/3000], Loss: 8.7275\n",
      "Epoch [120/3000], Loss: 6.8173\n",
      "Epoch [130/3000], Loss: 6.7137\n",
      "Epoch [140/3000], Loss: 6.3701\n",
      "Epoch [150/3000], Loss: 5.4745\n",
      "Epoch [160/3000], Loss: 5.4778\n",
      "Epoch [170/3000], Loss: 6.1108\n",
      "Epoch [180/3000], Loss: 5.5141\n",
      "Epoch [190/3000], Loss: 5.4048\n",
      "Epoch [200/3000], Loss: 4.5437\n",
      "Epoch [210/3000], Loss: 5.6263\n",
      "Epoch [220/3000], Loss: 6.7235\n",
      "Epoch [230/3000], Loss: 4.8358\n",
      "Epoch [240/3000], Loss: 6.2325\n",
      "Epoch [250/3000], Loss: 5.0213\n",
      "Epoch [260/3000], Loss: 4.8752\n",
      "Epoch [270/3000], Loss: 5.4204\n",
      "Epoch [280/3000], Loss: 4.8591\n",
      "Epoch [290/3000], Loss: 4.9229\n",
      "Epoch [300/3000], Loss: 5.1672\n",
      "Epoch [310/3000], Loss: 4.7501\n",
      "Epoch [320/3000], Loss: 4.6002\n",
      "Epoch [330/3000], Loss: 4.1298\n",
      "Epoch [340/3000], Loss: 4.3659\n",
      "Epoch [350/3000], Loss: 3.8697\n",
      "Epoch [360/3000], Loss: 4.3455\n",
      "Epoch [370/3000], Loss: 4.5237\n",
      "Epoch [380/3000], Loss: 4.1171\n",
      "Epoch [390/3000], Loss: 4.6347\n",
      "Epoch [400/3000], Loss: 4.2387\n",
      "Epoch [410/3000], Loss: 4.4202\n",
      "Epoch [420/3000], Loss: 4.4176\n",
      "Epoch [430/3000], Loss: 3.8826\n",
      "Epoch [440/3000], Loss: 4.4739\n",
      "Epoch [450/3000], Loss: 3.9556\n",
      "Epoch [460/3000], Loss: 4.8059\n",
      "Epoch [470/3000], Loss: 3.9479\n",
      "Epoch [480/3000], Loss: 4.4763\n",
      "Epoch [490/3000], Loss: 4.3711\n",
      "Epoch [500/3000], Loss: 4.7107\n",
      "Epoch [510/3000], Loss: 3.6578\n",
      "Epoch [520/3000], Loss: 3.7967\n",
      "Epoch [530/3000], Loss: 4.1060\n",
      "Epoch [540/3000], Loss: 3.4800\n",
      "Epoch [550/3000], Loss: 3.4656\n",
      "Epoch [560/3000], Loss: 4.2013\n",
      "Epoch [570/3000], Loss: 3.4544\n",
      "Early stopping at epoch 572\n"
     ]
    }
   ],
   "execution_count": 7
  },
  {
   "metadata": {
    "ExecuteTime": {
     "end_time": "2024-11-21T12:46:46.068683Z",
     "start_time": "2024-11-21T12:46:46.056689Z"
    }
   },
   "cell_type": "code",
   "source": [
    "from function import metrics_to_dataframe\n",
    "\n",
    "# 重新定义模型结构\n",
    "model = ANN(input_dim).to(device)  # 使用相同的模型结构\n",
    "\n",
    "# 加载模型参数，确保使用 weights_only=True 来提高安全性\n",
    "model.load_state_dict(torch.load(\"ann_model.pth\", weights_only=True))  # 加载模型参数\n",
    "\n",
    "# 评估模型 (确保在 GPU 上)\n",
    "model.eval()\n",
    "with torch.no_grad():\n",
    "    y_train_pred = model(X_train_tensor).cpu().numpy()  # 转换为 CPU 数据，便于后续处理\n",
    "    y_test_pred = model(X_test_tensor).cpu().numpy()\n",
    "\n",
    "# 计算并显示评估指标\n",
    "ann_metrics = metrics_to_dataframe(y_train, y_train_pred, y_test, y_test_pred, 'ANN')\n",
    "ann_metrics"
   ],
   "id": "877ba666a9f8f737",
   "outputs": [
    {
     "data": {
      "text/plain": [
       "  model  R2_train  MAE_train  MAPE_train  RMSE_train   R2_test  MAE_test  \\\n",
       "0   ANN  0.943932   5.739903    6.449726    9.452667  0.963017  5.347572   \n",
       "\n",
       "   MAPE_test  RMSE_test  \n",
       "0   6.180497   7.632014  "
      ],
      "text/html": [
       "<div>\n",
       "<style scoped>\n",
       "    .dataframe tbody tr th:only-of-type {\n",
       "        vertical-align: middle;\n",
       "    }\n",
       "\n",
       "    .dataframe tbody tr th {\n",
       "        vertical-align: top;\n",
       "    }\n",
       "\n",
       "    .dataframe thead th {\n",
       "        text-align: right;\n",
       "    }\n",
       "</style>\n",
       "<table border=\"1\" class=\"dataframe\">\n",
       "  <thead>\n",
       "    <tr style=\"text-align: right;\">\n",
       "      <th></th>\n",
       "      <th>model</th>\n",
       "      <th>R2_train</th>\n",
       "      <th>MAE_train</th>\n",
       "      <th>MAPE_train</th>\n",
       "      <th>RMSE_train</th>\n",
       "      <th>R2_test</th>\n",
       "      <th>MAE_test</th>\n",
       "      <th>MAPE_test</th>\n",
       "      <th>RMSE_test</th>\n",
       "    </tr>\n",
       "  </thead>\n",
       "  <tbody>\n",
       "    <tr>\n",
       "      <th>0</th>\n",
       "      <td>ANN</td>\n",
       "      <td>0.943932</td>\n",
       "      <td>5.739903</td>\n",
       "      <td>6.449726</td>\n",
       "      <td>9.452667</td>\n",
       "      <td>0.963017</td>\n",
       "      <td>5.347572</td>\n",
       "      <td>6.180497</td>\n",
       "      <td>7.632014</td>\n",
       "    </tr>\n",
       "  </tbody>\n",
       "</table>\n",
       "</div>"
      ]
     },
     "execution_count": 18,
     "metadata": {},
     "output_type": "execute_result"
    }
   ],
   "execution_count": 18
  },
  {
   "metadata": {
    "ExecuteTime": {
     "end_time": "2024-11-21T12:46:50.656845Z",
     "start_time": "2024-11-21T12:46:50.652152Z"
    }
   },
   "cell_type": "code",
   "source": [
    "ann_train = pd.DataFrame({'Actual': y_train, 'Predicted': y_train_pred.squeeze()})\n",
    "ann_test = pd.DataFrame({'Actual': y_test, 'Predicted': y_test_pred.squeeze()})\n",
    "ann_train.to_csv('ann_train.csv', index=False)\n",
    "ann_test.to_csv('ann_test.csv', index=False)"
   ],
   "id": "255cf4b834ba9c75",
   "outputs": [],
   "execution_count": 19
  }
 ],
 "metadata": {
  "kernelspec": {
   "display_name": "pytorch",
   "language": "python",
   "name": "pytorch"
  },
  "language_info": {
   "codemirror_mode": {
    "name": "ipython",
    "version": 2
   },
   "file_extension": ".py",
   "mimetype": "text/x-python",
   "name": "python",
   "nbconvert_exporter": "python",
   "pygments_lexer": "ipython2",
   "version": "2.7.6"
  }
 },
 "nbformat": 4,
 "nbformat_minor": 5
}

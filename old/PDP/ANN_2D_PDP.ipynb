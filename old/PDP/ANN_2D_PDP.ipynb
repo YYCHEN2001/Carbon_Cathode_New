{
 "cells": [
  {
   "metadata": {
    "ExecuteTime": {
     "end_time": "2024-11-19T10:21:41.343137Z",
     "start_time": "2024-11-19T10:21:39.349393Z"
    }
   },
   "cell_type": "code",
   "source": [
    "import torch\n",
    "import torch.nn as nn\n",
    "import torch.optim as optim\n",
    "from torch.utils.data import DataLoader, TensorDataset\n",
    "from sklearn.model_selection import train_test_split\n",
    "from sklearn.preprocessing import StandardScaler\n",
    "import pandas as pd\n",
    "import numpy as np\n",
    "import random\n",
    "\n",
    "# 自定义 MAPE 损失函数\n",
    "class MAPE_Loss(nn.Module):\n",
    "    def __init__(self):\n",
    "        super(MAPE_Loss, self).__init__()\n",
    "\n",
    "    def forward(self, y_pred, y_true):\n",
    "        epsilon = 1e-8  # 避免除零\n",
    "        return torch.mean(torch.abs((y_true - y_pred) / (y_true + epsilon))) * 100"
   ],
   "id": "49b7cd725eaf0031",
   "outputs": [],
   "execution_count": 1
  },
  {
   "metadata": {
    "ExecuteTime": {
     "end_time": "2024-11-19T10:21:41.357594Z",
     "start_time": "2024-11-19T10:21:41.346243Z"
    }
   },
   "cell_type": "code",
   "source": [
    "# 读取数据\n",
    "data = pd.read_csv(\"../data/dataset.csv\")\n",
    "\n",
    "# 数据分割\n",
    "data['target_class'] = pd.qcut(data['Cs'], q=10, labels=False)\n",
    "X = data.drop(['Cs', 'target_class'], axis=1).values\n",
    "y = data['Cs'].values\n",
    "stratify_column = data['target_class']\n",
    "\n",
    "X_train, X_test, y_train, y_test = train_test_split(X, y, test_size=0.2, random_state=21, stratify=stratify_column)\n",
    "\n",
    "# 数据标准化\n",
    "scaler = StandardScaler()\n",
    "scaler.fit(X_train)\n",
    "\n",
    "X_train_scaled = scaler.transform(X_train)\n",
    "X_test_scaled = scaler.transform(X_test)\n",
    "\n",
    "# 将数据转换为 PyTorch 张量\n",
    "X_train_tensor = torch.tensor(X_train_scaled, dtype=torch.float32)\n",
    "y_train_tensor = torch.tensor(y_train, dtype=torch.float32).view(-1, 1)\n",
    "\n",
    "X_test_tensor = torch.tensor(X_test_scaled, dtype=torch.float32)\n",
    "y_test_tensor = torch.tensor(y_test, dtype=torch.float32).view(-1, 1)\n",
    "\n",
    "# 创建 DataLoader\n",
    "train_dataset = TensorDataset(X_train_tensor, y_train_tensor)\n",
    "test_dataset = TensorDataset(X_test_tensor, y_test_tensor)\n",
    "\n",
    "train_loader = DataLoader(train_dataset, batch_size=32, shuffle=True)\n",
    "test_loader = DataLoader(test_dataset, batch_size=32, shuffle=False)"
   ],
   "id": "38c1e9f4eb529b71",
   "outputs": [],
   "execution_count": 2
  },
  {
   "metadata": {
    "ExecuteTime": {
     "end_time": "2024-11-19T10:22:55.627801Z",
     "start_time": "2024-11-19T10:22:55.623924Z"
    }
   },
   "cell_type": "code",
   "source": "X_train_tensor",
   "id": "fcf8d5dccb0dc2e8",
   "outputs": [
    {
     "data": {
      "text/plain": [
       "tensor([[ 0.0291, -0.7687, -0.6003,  ...,  0.2674, -0.5044, -0.1394],\n",
       "        [ 0.9981, -0.0516,  1.5878,  ..., -0.3791, -0.5044, -0.4421],\n",
       "        [-0.2552,  0.2528, -0.6484,  ..., -0.2174, -0.5044,  0.3795],\n",
       "        ...,\n",
       "        [-0.5987,  3.5067, -0.5270,  ..., -0.3791, -0.5044, -0.4637],\n",
       "        [ 0.6404,  1.8628, -1.3675,  ...,  0.2674, -0.5044, -0.3988],\n",
       "        [ 0.4200, -0.2580,  1.3366,  ..., -0.3791, -0.5044, -0.4637]])"
      ]
     },
     "execution_count": 7,
     "metadata": {},
     "output_type": "execute_result"
    }
   ],
   "execution_count": 7
  },
  {
   "metadata": {
    "ExecuteTime": {
     "end_time": "2024-11-19T10:21:42.297981Z",
     "start_time": "2024-11-19T10:21:41.473297Z"
    }
   },
   "cell_type": "code",
   "source": [
    "class ANN(nn.Module):\n",
    "    def __init__(self, input_dim):\n",
    "        super(ANN, self).__init__()\n",
    "        self.layer1 = nn.Linear(input_dim, 12)\n",
    "        self.layer2 = nn.Linear(12, 90)\n",
    "        self.layer3 = nn.Linear(90, 90)\n",
    "        self.layer4 = nn.Linear(90, 60)\n",
    "        self.layer5 = nn.Linear(60, 70)\n",
    "        self.layer6 = nn.Linear(70, 30)\n",
    "        self.output = nn.Linear(30, 1)\n",
    "\n",
    "    def forward(self, x):\n",
    "        x = torch.relu(self.layer1(x))\n",
    "        x = torch.relu(self.layer2(x))\n",
    "        x = torch.relu(self.layer3(x))\n",
    "        x = torch.relu(self.layer4(x))\n",
    "        x = torch.relu(self.layer5(x))\n",
    "        x = torch.relu(self.layer6(x))\n",
    "        x = self.output(x)\n",
    "        return x\n",
    "\n",
    "# 初始化模型\n",
    "input_dim = X_train_scaled.shape[1]\n",
    "model = ANN(input_dim)\n",
    "\n",
    "# 选择损失函数 (可以选择 MAPE 或 RMSE)\n",
    "loss_function = MAPE_Loss()\n",
    "# loss_function = RMSE_Loss()  # 或者使用 MAPE_Loss()\n",
    "optimizer = optim.Adam(model.parameters(), lr=0.001)"
   ],
   "id": "91bfacdfa76a7841",
   "outputs": [],
   "execution_count": 3
  },
  {
   "metadata": {
    "ExecuteTime": {
     "end_time": "2024-11-19T10:21:58.474085Z",
     "start_time": "2024-11-19T10:21:58.368295Z"
    }
   },
   "cell_type": "code",
   "source": [
    "# 重新定义模型结构\n",
    "model = ANN(input_dim)  # 使用相同的模型结构\n",
    "\n",
    "# 加载模型参数，确保使用 weights_only=True 来提高安全性\n",
    "model.load_state_dict(torch.load(\"ann_model.pth\", weights_only=True))  # 加载模型参数\n",
    "\n",
    "# 评估模型 (确保在 GPU 上)\n",
    "model.eval()\n",
    "with torch.no_grad():\n",
    "    y_train_pred = model(X_train_tensor).cpu().numpy()  # 转换为 CPU 数据，便于后续处理\n",
    "    y_test_pred = model(X_test_tensor).cpu().numpy()\n",
    "\n",
    "y_train_pred = y_train_pred.squeeze()\n",
    "y_test_pred = y_test_pred.squeeze()"
   ],
   "id": "b7e0f45819ad97db",
   "outputs": [],
   "execution_count": 5
  },
  {
   "metadata": {
    "ExecuteTime": {
     "end_time": "2024-11-19T10:23:44.562291Z",
     "start_time": "2024-11-19T10:23:44.443697Z"
    }
   },
   "cell_type": "code",
   "source": [
    "from sklearn.inspection import PartialDependenceDisplay\n",
    "from matplotlib import pyplot as plt\n",
    "\n",
    "# 指定要计算2D部分依赖图的特征（使用元组而不是列表）\n",
    "features = ('N', 'O')\n",
    "\n",
    "fig, ax = plt.subplots(figsize=(12, 9))\n",
    "pdp_display = PartialDependenceDisplay.from_estimator(model, X_train_scaled, [features], ax=ax, grid_resolution=100)\n",
    "pdp_display.pd_results"
   ],
   "id": "e1149ffb880cc273",
   "outputs": [
    {
     "ename": "ValueError",
     "evalue": "Feature 'N' not in feature_names",
     "output_type": "error",
     "traceback": [
      "\u001B[1;31m---------------------------------------------------------------------------\u001B[0m",
      "\u001B[1;31mValueError\u001B[0m                                Traceback (most recent call last)",
      "File \u001B[1;32m~\\.conda\\envs\\pytorch\\Lib\\site-packages\\sklearn\\inspection\\_pd_utils.py:61\u001B[0m, in \u001B[0;36m_get_feature_index\u001B[1;34m(fx, feature_names)\u001B[0m\n\u001B[0;32m     60\u001B[0m \u001B[38;5;28;01mtry\u001B[39;00m:\n\u001B[1;32m---> 61\u001B[0m     \u001B[38;5;28;01mreturn\u001B[39;00m \u001B[43mfeature_names\u001B[49m\u001B[38;5;241;43m.\u001B[39;49m\u001B[43mindex\u001B[49m\u001B[43m(\u001B[49m\u001B[43mfx\u001B[49m\u001B[43m)\u001B[49m\n\u001B[0;32m     62\u001B[0m \u001B[38;5;28;01mexcept\u001B[39;00m \u001B[38;5;167;01mValueError\u001B[39;00m \u001B[38;5;28;01mas\u001B[39;00m e:\n",
      "\u001B[1;31mValueError\u001B[0m: 'N' is not in list",
      "\nThe above exception was the direct cause of the following exception:\n",
      "\u001B[1;31mValueError\u001B[0m                                Traceback (most recent call last)",
      "Cell \u001B[1;32mIn[10], line 8\u001B[0m\n\u001B[0;32m      5\u001B[0m features \u001B[38;5;241m=\u001B[39m (\u001B[38;5;124m'\u001B[39m\u001B[38;5;124mN\u001B[39m\u001B[38;5;124m'\u001B[39m, \u001B[38;5;124m'\u001B[39m\u001B[38;5;124mO\u001B[39m\u001B[38;5;124m'\u001B[39m)\n\u001B[0;32m      7\u001B[0m fig, ax \u001B[38;5;241m=\u001B[39m plt\u001B[38;5;241m.\u001B[39msubplots(figsize\u001B[38;5;241m=\u001B[39m(\u001B[38;5;241m12\u001B[39m, \u001B[38;5;241m9\u001B[39m))\n\u001B[1;32m----> 8\u001B[0m pdp_display \u001B[38;5;241m=\u001B[39m \u001B[43mPartialDependenceDisplay\u001B[49m\u001B[38;5;241;43m.\u001B[39;49m\u001B[43mfrom_estimator\u001B[49m\u001B[43m(\u001B[49m\u001B[43mmodel\u001B[49m\u001B[43m,\u001B[49m\u001B[43m \u001B[49m\u001B[43mX_train_scaled\u001B[49m\u001B[43m,\u001B[49m\u001B[43m \u001B[49m\u001B[43m[\u001B[49m\u001B[43mfeatures\u001B[49m\u001B[43m]\u001B[49m\u001B[43m,\u001B[49m\u001B[43m \u001B[49m\u001B[43max\u001B[49m\u001B[38;5;241;43m=\u001B[39;49m\u001B[43max\u001B[49m\u001B[43m,\u001B[49m\u001B[43m \u001B[49m\u001B[43mgrid_resolution\u001B[49m\u001B[38;5;241;43m=\u001B[39;49m\u001B[38;5;241;43m100\u001B[39;49m\u001B[43m)\u001B[49m\n\u001B[0;32m      9\u001B[0m pdp_display\u001B[38;5;241m.\u001B[39mpd_results\n",
      "File \u001B[1;32m~\\.conda\\envs\\pytorch\\Lib\\site-packages\\sklearn\\inspection\\_plot\\partial_dependence.py:562\u001B[0m, in \u001B[0;36mPartialDependenceDisplay.from_estimator\u001B[1;34m(cls, estimator, X, features, sample_weight, categorical_features, feature_names, target, response_method, n_cols, grid_resolution, percentiles, method, n_jobs, verbose, line_kw, ice_lines_kw, pd_line_kw, contour_kw, ax, kind, centered, subsample, random_state)\u001B[0m\n\u001B[0;32m    560\u001B[0m     fxs \u001B[38;5;241m=\u001B[39m (fxs,)\n\u001B[0;32m    561\u001B[0m \u001B[38;5;28;01mtry\u001B[39;00m:\n\u001B[1;32m--> 562\u001B[0m     fxs \u001B[38;5;241m=\u001B[39m \u001B[38;5;28;43mtuple\u001B[39;49m\u001B[43m(\u001B[49m\n\u001B[0;32m    563\u001B[0m \u001B[43m        \u001B[49m\u001B[43m_get_feature_index\u001B[49m\u001B[43m(\u001B[49m\u001B[43mfx\u001B[49m\u001B[43m,\u001B[49m\u001B[43m \u001B[49m\u001B[43mfeature_names\u001B[49m\u001B[38;5;241;43m=\u001B[39;49m\u001B[43mfeature_names\u001B[49m\u001B[43m)\u001B[49m\u001B[43m \u001B[49m\u001B[38;5;28;43;01mfor\u001B[39;49;00m\u001B[43m \u001B[49m\u001B[43mfx\u001B[49m\u001B[43m \u001B[49m\u001B[38;5;129;43;01min\u001B[39;49;00m\u001B[43m \u001B[49m\u001B[43mfxs\u001B[49m\n\u001B[0;32m    564\u001B[0m \u001B[43m    \u001B[49m\u001B[43m)\u001B[49m\n\u001B[0;32m    565\u001B[0m \u001B[38;5;28;01mexcept\u001B[39;00m \u001B[38;5;167;01mTypeError\u001B[39;00m \u001B[38;5;28;01mas\u001B[39;00m e:\n\u001B[0;32m    566\u001B[0m     \u001B[38;5;28;01mraise\u001B[39;00m \u001B[38;5;167;01mValueError\u001B[39;00m(\n\u001B[0;32m    567\u001B[0m         \u001B[38;5;124m\"\u001B[39m\u001B[38;5;124mEach entry in features must be either an int, \u001B[39m\u001B[38;5;124m\"\u001B[39m\n\u001B[0;32m    568\u001B[0m         \u001B[38;5;124m\"\u001B[39m\u001B[38;5;124ma string, or an iterable of size at most 2.\u001B[39m\u001B[38;5;124m\"\u001B[39m\n\u001B[0;32m    569\u001B[0m     ) \u001B[38;5;28;01mfrom\u001B[39;00m \u001B[38;5;21;01me\u001B[39;00m\n",
      "File \u001B[1;32m~\\.conda\\envs\\pytorch\\Lib\\site-packages\\sklearn\\inspection\\_plot\\partial_dependence.py:563\u001B[0m, in \u001B[0;36m<genexpr>\u001B[1;34m(.0)\u001B[0m\n\u001B[0;32m    560\u001B[0m     fxs \u001B[38;5;241m=\u001B[39m (fxs,)\n\u001B[0;32m    561\u001B[0m \u001B[38;5;28;01mtry\u001B[39;00m:\n\u001B[0;32m    562\u001B[0m     fxs \u001B[38;5;241m=\u001B[39m \u001B[38;5;28mtuple\u001B[39m(\n\u001B[1;32m--> 563\u001B[0m         \u001B[43m_get_feature_index\u001B[49m\u001B[43m(\u001B[49m\u001B[43mfx\u001B[49m\u001B[43m,\u001B[49m\u001B[43m \u001B[49m\u001B[43mfeature_names\u001B[49m\u001B[38;5;241;43m=\u001B[39;49m\u001B[43mfeature_names\u001B[49m\u001B[43m)\u001B[49m \u001B[38;5;28;01mfor\u001B[39;00m fx \u001B[38;5;129;01min\u001B[39;00m fxs\n\u001B[0;32m    564\u001B[0m     )\n\u001B[0;32m    565\u001B[0m \u001B[38;5;28;01mexcept\u001B[39;00m \u001B[38;5;167;01mTypeError\u001B[39;00m \u001B[38;5;28;01mas\u001B[39;00m e:\n\u001B[0;32m    566\u001B[0m     \u001B[38;5;28;01mraise\u001B[39;00m \u001B[38;5;167;01mValueError\u001B[39;00m(\n\u001B[0;32m    567\u001B[0m         \u001B[38;5;124m\"\u001B[39m\u001B[38;5;124mEach entry in features must be either an int, \u001B[39m\u001B[38;5;124m\"\u001B[39m\n\u001B[0;32m    568\u001B[0m         \u001B[38;5;124m\"\u001B[39m\u001B[38;5;124ma string, or an iterable of size at most 2.\u001B[39m\u001B[38;5;124m\"\u001B[39m\n\u001B[0;32m    569\u001B[0m     ) \u001B[38;5;28;01mfrom\u001B[39;00m \u001B[38;5;21;01me\u001B[39;00m\n",
      "File \u001B[1;32m~\\.conda\\envs\\pytorch\\Lib\\site-packages\\sklearn\\inspection\\_pd_utils.py:63\u001B[0m, in \u001B[0;36m_get_feature_index\u001B[1;34m(fx, feature_names)\u001B[0m\n\u001B[0;32m     61\u001B[0m         \u001B[38;5;28;01mreturn\u001B[39;00m feature_names\u001B[38;5;241m.\u001B[39mindex(fx)\n\u001B[0;32m     62\u001B[0m     \u001B[38;5;28;01mexcept\u001B[39;00m \u001B[38;5;167;01mValueError\u001B[39;00m \u001B[38;5;28;01mas\u001B[39;00m e:\n\u001B[1;32m---> 63\u001B[0m         \u001B[38;5;28;01mraise\u001B[39;00m \u001B[38;5;167;01mValueError\u001B[39;00m(\u001B[38;5;124mf\u001B[39m\u001B[38;5;124m\"\u001B[39m\u001B[38;5;124mFeature \u001B[39m\u001B[38;5;132;01m{\u001B[39;00mfx\u001B[38;5;132;01m!r}\u001B[39;00m\u001B[38;5;124m not in feature_names\u001B[39m\u001B[38;5;124m\"\u001B[39m) \u001B[38;5;28;01mfrom\u001B[39;00m \u001B[38;5;21;01me\u001B[39;00m\n\u001B[0;32m     64\u001B[0m \u001B[38;5;28;01mreturn\u001B[39;00m fx\n",
      "\u001B[1;31mValueError\u001B[0m: Feature 'N' not in feature_names"
     ]
    },
    {
     "data": {
      "text/plain": [
       "<Figure size 1200x900 with 1 Axes>"
      ],
      "image/png": "[encoded data removed]"
     },
     "metadata": {},
     "output_type": "display_data"
    }
   ],
   "execution_count": 10
  }
 ],
 "metadata": {
  "kernelspec": {
   "display_name": "Python 3",
   "language": "python",
   "name": "python3"
  },
  "language_info": {
   "codemirror_mode": {
    "name": "ipython",
    "version": 2
   },
   "file_extension": ".py",
   "mimetype": "text/x-python",
   "name": "python",
   "nbconvert_exporter": "python",
   "pygments_lexer": "ipython2",
   "version": "2.7.6"
  }
 },
 "nbformat": 4,
 "nbformat_minor": 5
}
